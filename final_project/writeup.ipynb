{
 "cells": [
  {
   "cell_type": "code",
   "execution_count": 100,
   "metadata": {
    "collapsed": true,
    "pycharm": {
     "is_executing": false
    }
   },
   "outputs": [],
   "source": [
    "#!/usr/bin/python\n",
    "from time import time\n",
    "import pickle\n",
    "import numpy as np\n",
    "import pandas as pd\n",
    "from pandas.plotting import scatter_matrix\n",
    "import seaborn as sns\n",
    "import matplotlib.pyplot as plt\n",
    "from sklearn.decomposition import PCA\n",
    "from sklearn.experimental import enable_iterative_imputer\n",
    "from sklearn.linear_model import LogisticRegression\n",
    "from sklearn import metrics\n",
    "from sklearn.metrics import accuracy_score, classification_report, confusion_matrix\n",
    "from sklearn.model_selection import train_test_split, GridSearchCV\n",
    "from sklearn.naive_bayes import GaussianNB\n",
    "from sklearn.pipeline import make_pipeline\n",
    "from sklearn.preprocessing import StandardScaler\n",
    "\n",
    "from sklearn.svm import SVC\n",
    "from sklearn.impute import IterativeImputer\n",
    "from pprint import pprint\n",
    "#from tools.feature_format import feature_format, targetFeatureSplit\n",
    "#from final_project.tester import dump_classifier_and_data\n",
    "\n",
    "%matplotlib inline\n"
   ]
  },
  {
   "cell_type": "markdown",
   "source": [
    "## Data Exploration\n",
    "First we'll load the the data into a pandas Dataframe"
   ],
   "metadata": {
    "collapsed": false,
    "pycharm": {
     "name": "#%% md\n"
    }
   }
  },
  {
   "cell_type": "code",
   "execution_count": 33,
   "outputs": [
    {
     "name": "stdout",
     "text": [
      "Rows: 146\nColumns: 21\n"
     ],
     "output_type": "stream"
    }
   ],
   "source": [
    "# Load the dictionary containing the dataset\n",
    "with open(\"final_project_dataset.pkl\", \"rb\") as data_file:\n",
    "    data_dict = pickle.load(data_file)\n",
    "\n",
    "# replace 'Nan' strings with None in dataset\n",
    "for outer_keys, inner_dicts in data_dict.items():\n",
    "    for k, v in inner_dicts.items():\n",
    "        if v == 'NaN':\n",
    "            data_dict[outer_keys][k] = None\n",
    "            \n",
    "df = pd.DataFrame.from_dict(data_dict,\n",
    "                            orient='index'  # user outer dict keys as column names\n",
    "                            )\n",
    "# Handles email_address field\n",
    "df.fillna(value=pd.np.nan, inplace=True)\n",
    "print(\"Rows: {0}\\nColumns: {1}\".format(*df.shape))  # unpack shape tuple into formatted str"
   ],
   "metadata": {
    "collapsed": false,
    "pycharm": {
     "name": "#%%\n",
     "is_executing": false
    }
   }
  },
  {
   "cell_type": "markdown",
   "source": [
    "Column Names"
   ],
   "metadata": {
    "collapsed": false,
    "pycharm": {
     "name": "#%% md\n"
    }
   }
  },
  {
   "cell_type": "code",
   "execution_count": 34,
   "outputs": [
    {
     "name": "stdout",
     "text": [
      "salary\nto_messages\ndeferral_payments\ntotal_payments\nloan_advances\nbonus\nemail_address\nrestricted_stock_deferred\ndeferred_income\ntotal_stock_value\nexpenses\nfrom_poi_to_this_person\nexercised_stock_options\nfrom_messages\nother\nfrom_this_person_to_poi\npoi\nlong_term_incentive\nshared_receipt_with_poi\nrestricted_stock\ndirector_fees\n"
     ],
     "output_type": "stream"
    }
   ],
   "source": [
    "[print(x) for x in df.columns.to_list()];"
   ],
   "metadata": {
    "collapsed": false,
    "pycharm": {
     "name": "#%% Column Names\n",
     "is_executing": false
    }
   }
  },
  {
   "cell_type": "code",
   "execution_count": 26,
   "outputs": [
    {
     "data": {
      "text/plain": "(145, 21)"
     },
     "metadata": {},
     "output_type": "execute_result",
     "execution_count": 26
    }
   ],
   "source": [
    "df.dropna(thresh=2, inplace=True)\n",
    "df.shape"
   ],
   "metadata": {
    "collapsed": false,
    "pycharm": {
     "name": "#%% drop records that don't have at least 2 features with non-nan values\n",
     "is_executing": false
    }
   }
  },
  {
   "cell_type": "markdown",
   "source": [
    "Are there features with missing values?"
   ],
   "metadata": {
    "collapsed": false,
    "pycharm": {
     "name": "#%% md\n"
    }
   }
  },
  {
   "cell_type": "code",
   "execution_count": 40,
   "outputs": [
    {
     "data": {
      "text/plain": "<pandas.io.formats.style.Styler at 0x21c54ac22e8>",
      "text/html": "<style  type=\"text/css\" >\n    #T_e6bdb312_8401_11e9_9d9b_4ccc6afb4708row0_col0 {\n            background-color:  #ff0000;\n            color:  #f1f1f1;\n        }    #T_e6bdb312_8401_11e9_9d9b_4ccc6afb4708row1_col0 {\n            background-color:  #ff1515;\n            color:  #f1f1f1;\n        }    #T_e6bdb312_8401_11e9_9d9b_4ccc6afb4708row2_col0 {\n            background-color:  #ff1717;\n            color:  #f1f1f1;\n        }    #T_e6bdb312_8401_11e9_9d9b_4ccc6afb4708row3_col0 {\n            background-color:  #ff3939;\n            color:  #f1f1f1;\n        }    #T_e6bdb312_8401_11e9_9d9b_4ccc6afb4708row4_col0 {\n            background-color:  #ff4949;\n            color:  #000000;\n        }    #T_e6bdb312_8401_11e9_9d9b_4ccc6afb4708row5_col0 {\n            background-color:  #ff6464;\n            color:  #000000;\n        }    #T_e6bdb312_8401_11e9_9d9b_4ccc6afb4708row6_col0 {\n            background-color:  #ff7e7e;\n            color:  #000000;\n        }    #T_e6bdb312_8401_11e9_9d9b_4ccc6afb4708row7_col0 {\n            background-color:  #ff8484;\n            color:  #000000;\n        }    #T_e6bdb312_8401_11e9_9d9b_4ccc6afb4708row8_col0 {\n            background-color:  #ff8484;\n            color:  #000000;\n        }    #T_e6bdb312_8401_11e9_9d9b_4ccc6afb4708row9_col0 {\n            background-color:  #ff8484;\n            color:  #000000;\n        }    #T_e6bdb312_8401_11e9_9d9b_4ccc6afb4708row10_col0 {\n            background-color:  #ff8484;\n            color:  #000000;\n        }    #T_e6bdb312_8401_11e9_9d9b_4ccc6afb4708row11_col0 {\n            background-color:  #ff8484;\n            color:  #000000;\n        }    #T_e6bdb312_8401_11e9_9d9b_4ccc6afb4708row12_col0 {\n            background-color:  #ff9090;\n            color:  #000000;\n        }    #T_e6bdb312_8401_11e9_9d9b_4ccc6afb4708row13_col0 {\n            background-color:  #ff9494;\n            color:  #000000;\n        }    #T_e6bdb312_8401_11e9_9d9b_4ccc6afb4708row14_col0 {\n            background-color:  #ff9494;\n            color:  #000000;\n        }    #T_e6bdb312_8401_11e9_9d9b_4ccc6afb4708row15_col0 {\n            background-color:  #ff9e9e;\n            color:  #000000;\n        }    #T_e6bdb312_8401_11e9_9d9b_4ccc6afb4708row16_col0 {\n            background-color:  #ffacac;\n            color:  #000000;\n        }    #T_e6bdb312_8401_11e9_9d9b_4ccc6afb4708row17_col0 {\n            background-color:  #ffadad;\n            color:  #000000;\n        }    #T_e6bdb312_8401_11e9_9d9b_4ccc6afb4708row18_col0 {\n            background-color:  #ffc4c4;\n            color:  #000000;\n        }    #T_e6bdb312_8401_11e9_9d9b_4ccc6afb4708row19_col0 {\n            background-color:  #ffc5c5;\n            color:  #000000;\n        }    #T_e6bdb312_8401_11e9_9d9b_4ccc6afb4708row20_col0 {\n            background-color:  #ffe5e5;\n            color:  #000000;\n        }</style><table id=\"T_e6bdb312_8401_11e9_9d9b_4ccc6afb4708\" ><thead>    <tr>        <th class=\"blank level0\" ></th>        <th class=\"col_heading level0 col0\" >Missing values</th>    </tr></thead><tbody>\n                <tr>\n                        <th id=\"T_e6bdb312_8401_11e9_9d9b_4ccc6afb4708level0_row0\" class=\"row_heading level0 row0\" >loan_advances</th>\n                        <td id=\"T_e6bdb312_8401_11e9_9d9b_4ccc6afb4708row0_col0\" class=\"data row0 col0\" >97.26%</td>\n            </tr>\n            <tr>\n                        <th id=\"T_e6bdb312_8401_11e9_9d9b_4ccc6afb4708level0_row1\" class=\"row_heading level0 row1\" >director_fees</th>\n                        <td id=\"T_e6bdb312_8401_11e9_9d9b_4ccc6afb4708row1_col0\" class=\"data row1 col0\" >88.36%</td>\n            </tr>\n            <tr>\n                        <th id=\"T_e6bdb312_8401_11e9_9d9b_4ccc6afb4708level0_row2\" class=\"row_heading level0 row2\" >restricted_stock_deferred</th>\n                        <td id=\"T_e6bdb312_8401_11e9_9d9b_4ccc6afb4708row2_col0\" class=\"data row2 col0\" >87.67%</td>\n            </tr>\n            <tr>\n                        <th id=\"T_e6bdb312_8401_11e9_9d9b_4ccc6afb4708level0_row3\" class=\"row_heading level0 row3\" >deferral_payments</th>\n                        <td id=\"T_e6bdb312_8401_11e9_9d9b_4ccc6afb4708row3_col0\" class=\"data row3 col0\" >73.29%</td>\n            </tr>\n            <tr>\n                        <th id=\"T_e6bdb312_8401_11e9_9d9b_4ccc6afb4708level0_row4\" class=\"row_heading level0 row4\" >deferred_income</th>\n                        <td id=\"T_e6bdb312_8401_11e9_9d9b_4ccc6afb4708row4_col0\" class=\"data row4 col0\" >66.44%</td>\n            </tr>\n            <tr>\n                        <th id=\"T_e6bdb312_8401_11e9_9d9b_4ccc6afb4708level0_row5\" class=\"row_heading level0 row5\" >long_term_incentive</th>\n                        <td id=\"T_e6bdb312_8401_11e9_9d9b_4ccc6afb4708row5_col0\" class=\"data row5 col0\" >54.79%</td>\n            </tr>\n            <tr>\n                        <th id=\"T_e6bdb312_8401_11e9_9d9b_4ccc6afb4708level0_row6\" class=\"row_heading level0 row6\" >bonus</th>\n                        <td id=\"T_e6bdb312_8401_11e9_9d9b_4ccc6afb4708row6_col0\" class=\"data row6 col0\" >43.84%</td>\n            </tr>\n            <tr>\n                        <th id=\"T_e6bdb312_8401_11e9_9d9b_4ccc6afb4708level0_row7\" class=\"row_heading level0 row7\" >shared_receipt_with_poi</th>\n                        <td id=\"T_e6bdb312_8401_11e9_9d9b_4ccc6afb4708row7_col0\" class=\"data row7 col0\" >41.10%</td>\n            </tr>\n            <tr>\n                        <th id=\"T_e6bdb312_8401_11e9_9d9b_4ccc6afb4708level0_row8\" class=\"row_heading level0 row8\" >to_messages</th>\n                        <td id=\"T_e6bdb312_8401_11e9_9d9b_4ccc6afb4708row8_col0\" class=\"data row8 col0\" >41.10%</td>\n            </tr>\n            <tr>\n                        <th id=\"T_e6bdb312_8401_11e9_9d9b_4ccc6afb4708level0_row9\" class=\"row_heading level0 row9\" >from_this_person_to_poi</th>\n                        <td id=\"T_e6bdb312_8401_11e9_9d9b_4ccc6afb4708row9_col0\" class=\"data row9 col0\" >41.10%</td>\n            </tr>\n            <tr>\n                        <th id=\"T_e6bdb312_8401_11e9_9d9b_4ccc6afb4708level0_row10\" class=\"row_heading level0 row10\" >from_messages</th>\n                        <td id=\"T_e6bdb312_8401_11e9_9d9b_4ccc6afb4708row10_col0\" class=\"data row10 col0\" >41.10%</td>\n            </tr>\n            <tr>\n                        <th id=\"T_e6bdb312_8401_11e9_9d9b_4ccc6afb4708level0_row11\" class=\"row_heading level0 row11\" >from_poi_to_this_person</th>\n                        <td id=\"T_e6bdb312_8401_11e9_9d9b_4ccc6afb4708row11_col0\" class=\"data row11 col0\" >41.10%</td>\n            </tr>\n            <tr>\n                        <th id=\"T_e6bdb312_8401_11e9_9d9b_4ccc6afb4708level0_row12\" class=\"row_heading level0 row12\" >other</th>\n                        <td id=\"T_e6bdb312_8401_11e9_9d9b_4ccc6afb4708row12_col0\" class=\"data row12 col0\" >36.30%</td>\n            </tr>\n            <tr>\n                        <th id=\"T_e6bdb312_8401_11e9_9d9b_4ccc6afb4708level0_row13\" class=\"row_heading level0 row13\" >expenses</th>\n                        <td id=\"T_e6bdb312_8401_11e9_9d9b_4ccc6afb4708row13_col0\" class=\"data row13 col0\" >34.93%</td>\n            </tr>\n            <tr>\n                        <th id=\"T_e6bdb312_8401_11e9_9d9b_4ccc6afb4708level0_row14\" class=\"row_heading level0 row14\" >salary</th>\n                        <td id=\"T_e6bdb312_8401_11e9_9d9b_4ccc6afb4708row14_col0\" class=\"data row14 col0\" >34.93%</td>\n            </tr>\n            <tr>\n                        <th id=\"T_e6bdb312_8401_11e9_9d9b_4ccc6afb4708level0_row15\" class=\"row_heading level0 row15\" >exercised_stock_options</th>\n                        <td id=\"T_e6bdb312_8401_11e9_9d9b_4ccc6afb4708row15_col0\" class=\"data row15 col0\" >30.14%</td>\n            </tr>\n            <tr>\n                        <th id=\"T_e6bdb312_8401_11e9_9d9b_4ccc6afb4708level0_row16\" class=\"row_heading level0 row16\" >restricted_stock</th>\n                        <td id=\"T_e6bdb312_8401_11e9_9d9b_4ccc6afb4708row16_col0\" class=\"data row16 col0\" >24.66%</td>\n            </tr>\n            <tr>\n                        <th id=\"T_e6bdb312_8401_11e9_9d9b_4ccc6afb4708level0_row17\" class=\"row_heading level0 row17\" >email_address</th>\n                        <td id=\"T_e6bdb312_8401_11e9_9d9b_4ccc6afb4708row17_col0\" class=\"data row17 col0\" >23.97%</td>\n            </tr>\n            <tr>\n                        <th id=\"T_e6bdb312_8401_11e9_9d9b_4ccc6afb4708level0_row18\" class=\"row_heading level0 row18\" >total_payments</th>\n                        <td id=\"T_e6bdb312_8401_11e9_9d9b_4ccc6afb4708row18_col0\" class=\"data row18 col0\" >14.38%</td>\n            </tr>\n            <tr>\n                        <th id=\"T_e6bdb312_8401_11e9_9d9b_4ccc6afb4708level0_row19\" class=\"row_heading level0 row19\" >total_stock_value</th>\n                        <td id=\"T_e6bdb312_8401_11e9_9d9b_4ccc6afb4708row19_col0\" class=\"data row19 col0\" >13.70%</td>\n            </tr>\n            <tr>\n                        <th id=\"T_e6bdb312_8401_11e9_9d9b_4ccc6afb4708level0_row20\" class=\"row_heading level0 row20\" >poi</th>\n                        <td id=\"T_e6bdb312_8401_11e9_9d9b_4ccc6afb4708row20_col0\" class=\"data row20 col0\" >0.00%</td>\n            </tr>\n    </tbody></table>"
     },
     "metadata": {},
     "output_type": "execute_result",
     "execution_count": 40
    }
   ],
   "source": [
    "cm = sns.light_palette(\"red\", as_cmap=True)\n",
    "\n",
    "nan_percents = (df.isna().sum() / len(df)).sort_values(ascending=False).to_frame().\\\n",
    "    rename(columns={0:\"Missing values\"}).style.\\\n",
    "    background_gradient(cmap=cm).\\\n",
    "    format(\"{:.2%}\")\n",
    "nan_percents"
   ],
   "metadata": {
    "collapsed": false,
    "pycharm": {
     "name": "#%% Check Nan Percentages for each feature\n",
     "is_executing": false
    }
   }
  },
  {
   "cell_type": "code",
   "execution_count": 50,
   "outputs": [
    {
     "data": {
      "text/plain": "loan_advances                     400000\nbonus                              70000\nlong_term_incentive                69223\ndirector_fees                       3285\nexercised_stock_options             3285\nsalary                               477\ntotal_payments                       148\nexpenses                             148\nto_messages                           57\nfrom_messages                         12\nother                                  2\nshared_receipt_with_poi                2\nfrom_this_person_to_poi                0\nfrom_poi_to_this_person                0\npoi                                False\ntotal_stock_value                 -44093\ndeferral_payments                -102500\nrestricted_stock            -2.60449e+06\nrestricted_stock_deferred   -7.57679e+06\ndeferred_income             -2.79929e+07\ndtype: object"
     },
     "metadata": {},
     "output_type": "execute_result",
     "execution_count": 50
    }
   ],
   "source": [
    "df.min().sort_values(ascending=False)\n",
    "# .style.format(\"{:.0}\")\n"
   ],
   "metadata": {
    "collapsed": false,
    "pycharm": {
     "name": "#%%\n",
     "is_executing": false
    }
   }
  },
  {
   "cell_type": "code",
   "execution_count": 9,
   "outputs": [
    {
     "data": {
      "text/plain": "count     146\nunique     95\ntop       NaN\nfreq       51\nName: salary, dtype: object"
     },
     "metadata": {},
     "output_type": "execute_result",
     "execution_count": 9
    }
   ],
   "source": [
    "df.salary.describe()"
   ],
   "metadata": {
    "collapsed": false,
    "pycharm": {
     "name": "#%%\n",
     "is_executing": false
    }
   }
  },
  {
   "cell_type": "markdown",
   "source": [
    "Total number of data points"
   ],
   "metadata": {
    "collapsed": false,
    "pycharm": {
     "name": "#%% md\n"
    }
   }
  },
  {
   "cell_type": "code",
   "execution_count": 10,
   "outputs": [
    {
     "name": "stdout",
     "text": [
      "Observations: 146\nFeatures: 21\n"
     ],
     "output_type": "stream"
    }
   ],
   "source": [
    "# Total number of data points\n",
    "print(\"Observations: {0}\\nFeatures: {1}\".format(*df.shape))"
   ],
   "metadata": {
    "collapsed": false,
    "pycharm": {
     "name": "#%%\n",
     "is_executing": false
    }
   }
  },
  {
   "cell_type": "markdown",
   "source": [
    "Allocation across classes(POI/non-POI)"
   ],
   "metadata": {
    "collapsed": false,
    "pycharm": {
     "name": "#%% md\n"
    }
   }
  },
  {
   "cell_type": "code",
   "execution_count": 20,
   "outputs": [
    {
     "data": {
      "text/plain": "False    128\nTrue      18\nName: poi, dtype: int64"
     },
     "metadata": {},
     "output_type": "execute_result",
     "execution_count": 20
    }
   ],
   "source": [
    "# Allocation across classes(POI/non-POI)\n",
    "# df.poi.value_counts()\n",
    "df['poi'].value_counts()"
   ],
   "metadata": {
    "collapsed": false,
    "pycharm": {
     "name": "#%%\n",
     "is_executing": false
    }
   }
  },
  {
   "cell_type": "code",
   "execution_count": null,
   "outputs": [],
   "source": [
    "# TODO: add number of features to be used"
   ],
   "metadata": {
    "collapsed": false,
    "pycharm": {
     "name": "#%% \n"
    }
   }
  },
  {
   "cell_type": "markdown",
   "source": [
    "## Are there features with many missing values?"
   ],
   "metadata": {
    "collapsed": false,
    "pycharm": {
     "name": "#%% md\n"
    }
   }
  },
  {
   "cell_type": "code",
   "execution_count": 77,
   "outputs": [
    {
     "name": "stdout",
     "text": [
      "<class 'pandas.core.frame.DataFrame'>\nIndex: 145 entries, ALLEN PHILLIP K to YEAP SOON\nData columns (total 19 columns):\nsalary                       94 non-null float64\nto_messages                  86 non-null float64\ndeferral_payments            38 non-null float64\nloan_advances                3 non-null float64\nbonus                        81 non-null float64\nemail_address                145 non-null object\nrestricted_stock_deferred    17 non-null float64\ndeferred_income              48 non-null float64\nexpenses                     94 non-null float64\nfrom_poi_to_this_person      86 non-null float64\nexercised_stock_options      101 non-null float64\nfrom_messages                86 non-null float64\nother                        92 non-null float64\nfrom_this_person_to_poi      86 non-null float64\npoi                          145 non-null bool\nlong_term_incentive          65 non-null float64\nshared_receipt_with_poi      86 non-null float64\nrestricted_stock             109 non-null float64\ndirector_fees                16 non-null float64\ndtypes: bool(1), float64(17), object(1)\nmemory usage: 26.7+ KB\n"
     ],
     "output_type": "stream"
    }
   ],
   "source": [
    "df.info()\n"
   ],
   "metadata": {
    "collapsed": false,
    "pycharm": {
     "name": "#%%\n",
     "is_executing": false
    }
   }
  },
  {
   "cell_type": "code",
   "execution_count": 80,
   "outputs": [],
   "source": [
    "payments_features = ['salary', 'bonus', 'long_term_incentive', 'deferred_income', 'deferral_payments',\n",
    "                     'loan_advances', 'other', 'expenses', 'director_fees', 'poi']\n",
    "stock_features = ['exercised_stock_options', 'restricted_stock', 'restricted_stock_deferred', 'poi' ]\n",
    "\n",
    "email_features = ['to_messages', 'from_poi_to_this_person',\n",
    "                  'from_messages', 'from_this_person_to_poi', 'shared_receipt_with_poi', 'poi']\n",
    "\n",
    "# Finance features in dataset, should be type Int but may resolve to float for compatibility with NaN's\n",
    "financial_features = ['salary', 'deferral_payments',\n",
    "                      'total_payments', 'loan_advances', 'bonus', 'restricted_stock_deferred',\n",
    "                      'deferred_income', 'total_stock_value', 'expenses', 'exercised_stock_options',\n",
    "                      'other', 'long_term_incentive', 'restricted_stock', 'director_fees']\n",
    "poi_label = ['poi']\n"
   ],
   "metadata": {
    "collapsed": false,
    "pycharm": {
     "name": "#%%\n",
     "is_executing": false
    }
   }
  },
  {
   "cell_type": "code",
   "execution_count": 81,
   "outputs": [],
   "source": [
    "pay_df = df[payments_features]\n",
    "stock_df = df[stock_features]\n",
    "email_df = df[email_features]\n"
   ],
   "metadata": {
    "collapsed": false,
    "pycharm": {
     "name": "#%%\n",
     "is_executing": false
    }
   }
  },
  {
   "cell_type": "code",
   "execution_count": 95,
   "outputs": [
    {
     "name": "stdout",
     "text": [
      "<class 'pandas.core.frame.DataFrame'>\nIndex: 145 entries, ALLEN PHILLIP K to YEAP SOON\nData columns (total 10 columns):\nsalary                 94 non-null float64\nbonus                  81 non-null float64\nlong_term_incentive    65 non-null float64\ndeferred_income        48 non-null float64\ndeferral_payments      38 non-null float64\nloan_advances          3 non-null float64\nother                  92 non-null float64\nexpenses               94 non-null float64\ndirector_fees          16 non-null float64\npoi                    145 non-null bool\ndtypes: bool(1), float64(9)\nmemory usage: 16.5+ KB\n"
     ],
     "output_type": "stream"
    }
   ],
   "source": [
    "pay_df.info()"
   ],
   "metadata": {
    "collapsed": false,
    "pycharm": {
     "name": "#%%\n",
     "is_executing": false
    }
   }
  },
  {
   "cell_type": "code",
   "execution_count": 94,
   "outputs": [
    {
     "data": {
      "text/plain": "<Figure size 432x288 with 2 Axes>",
      "image/png": "[encoded data removed]"
     },
     "metadata": {
      "needs_background": "light"
     },
     "output_type": "display_data"
    }
   ],
   "source": [
    "sns.heatmap(pay_df.corr(), center=0)\n",
    "plt.title(\"Payment Correlation heatmap\");"
   ],
   "metadata": {
    "collapsed": false,
    "pycharm": {
     "name": "#%%\n",
     "is_executing": false
    }
   }
  },
  {
   "cell_type": "code",
   "execution_count": 48,
   "outputs": [
    {
     "data": {
      "text/plain": "<Figure size 360x360 with 1 Axes>",
      "image/png": "[encoded data removed]"
     },
     "metadata": {
      "needs_background": "light"
     },
     "output_type": "display_data"
    }
   ],
   "source": [
    "# salary by bonus plot before 'TOTAL' removal\n",
    "sns.lmplot(x='salary', y='bonus', data=df)\n",
    "# the 'TOTAL' record\n",
    "TOTAL = df.sort_values(by=['salary'], ascending=False, na_position='last').head(1)\n"
   ],
   "metadata": {
    "collapsed": false,
    "pycharm": {
     "name": "#%%\n",
     "is_executing": false
    }
   }
  },
  {
   "cell_type": "markdown",
   "source": [
    "## Data Exploration\n",
    "\n",
    "We are working with three effective data sources:\n",
    "* The CALO Enron Email Dataset\n",
    "* \n",
    "* Enron Statement of financial affairs\n",
    "    * \n",
    "* An Associated Press article from 2005 Listing POI's.  Subcategorized in the article as:\n",
    "    * Newly Convicted\n",
    "    * On Trial\n",
    "    * Awaiting Trial\n",
    "    * Previously Convicted at Trial\n",
    "    * Acquitted at Trial\n",
    "    * Conviction Overturned\n",
    "    * Guilty Pleas\n",
    "    * Settlements  \n",
    "\n",
    "\n",
    "### Issues\n",
    "\n",
    "* NaN strings affecting column datatype in pandas\n",
    "    * Handled by setting all 'NaN' strings to None before importing data_dict into pandas\n",
    "    dataframe\n",
    "* Email_Address field, upon import, is not useful in ML classification\n",
    "    * All emails are either: NaN or an email from the 'enron.com' domain.\n",
    "    * Potentially usable if remapped to a Binary 'Has_email' Feature, based on whether the\n",
    "    email is present or 'NaN'\n",
    "* Aggregate Features: Total Payments, Total Stock Value\n",
    "    * Computed features\n",
    "* Aggregate Record: TOTAL\n",
    "    * A record was imported that was the aggregate total for each feature.  This would\n",
    "    heavily skew data and negatively impact classification accuracy\n",
    "* Non-person entity record: 'THE TRAVEL AGENCY IN THE PARK'\n",
    "    * Found to be owned by sister of Enron Chairperson. As we are trying to predict persons\n",
    "    of interest, this field will be removed since it is a company.\n",
    "* Person with all NaN Features\n",
    "    * Record with index \"LOWRY CHARLES P\" has all nan values for every feature(except poi).\n",
    "    A google of search of 'enron charles p lowry\" is yields little information, thus record\n",
    "    is being dropped. \n",
    "* All POI in the dataset have at least one non-value feature value from both the Financial\n",
    "and \n",
    "* 'Person of Interest' seems somewhat vague.\n",
    "> \"Person of interest\" is a term used by U.S. law enforcement when identifying someone involved\n",
    "in a criminal investigation who has not been arrested or formally accused of a crime. It has no legal\n",
    "meaning, but refers to someone in whom the police are \"interested,\" either because the person is cooperating\n",
    "with the investigation, may have information that would assist the investigation, or possesses certain\n",
    "characteristics that merit further attention.\n",
    "\n",
    "    * This means we aren't necessarily predicting whether someone is guilty, only if they are\n",
    "     Case could be made to changed Person of interest from a Binary feature to a \n",
    "    categorical one using the statuses from the AP article from 2005.\n",
    "\n",
    "## Features\n",
    "\n",
    "There is a large number of NaN values in this dataset.  This is largely due to \n",
    "\n",
    "### Email Features\n",
    "* email_address\n",
    "    * Many NaN values:  All records with a NaN email address had no emails inside the CALO Enron Email Dataset,\n",
    "    consequently \n",
    "    \n",
    "    \n",
    "\n",
    "### Payment Features\n",
    "\n",
    "* Salary: int\n",
    "    > Reflects items such as base salary, executive cash allowances, and benefits payments.\n",
    "* Bonus\n",
    "    > Reflects annual cash incentives paid based upon company performance. Also may include other retention payments.\n",
    "* Long Term Incentive: int\n",
    "    > Reflects long-term incentive cash payments from various long-term incentive programs designed to tie executive compensation to long-term success as measured\n",
    "against key performance drivers and business objectives over a multi-year period, generally 3 to 5 years.\n",
    "* Deferred Income: int\n",
    "    > Reflects voluntary executive deferrals of salary, annual cash incentives, and long-term cash incentives as well as cash fees deferred by non-employee directors\n",
    "under a deferred compensation arrangement. May also reflect deferrals under a stock option or phantom stock unit in lieu of cash arrangement.\n",
    "* Deferral Payments: int\n",
    "    > Reflects distributions from a deferred compensation arrangement due to termination of employment or due to in-service withdrawals as per plan provisions.\n",
    "* Loan Advances: int\n",
    "    > Reflects total amount of loan advances, excluding repayments, provided by the Debtor in return for a promise of repayment. In certain instances, the terms of the\n",
    "promissory notes allow for the option to repay with stock of the company.\n",
    "* Other\n",
    "    > Reflects items such as payments for severence, consulting services, relocation costs, tax advances and allowances for employees on international assignment (i.e.\n",
    "housing allowances, cost of living allowances, payments under Enron’s Tax Equalization Program, etc.). May also include payments provided with respect to\n",
    "employment agreements, as well as imputed income amounts for such things as use of corporate aircraft.\n",
    "* Expenses\n",
    "    > Reflects reimbursements of business expenses. May include fees paid for consulting services.\n",
    "* Director Fees\n",
    "    >  Reflects cash payments and/or value of stock grants made in lieu of cash payments to non-employee directors.\n",
    "\n",
    "### Stock Value Features\n",
    "> In 1998, 1999 and 2000, Debtor and non-debtor affiliates were charged for options granted. The Black-Scholes method was used to determine the amount to be\n",
    "charged. Any amounts charged to Debtor and non-debtor affiliates associated with the options exercised related to these three years have not been subtracted\n",
    "from the share value amounts shown.\n",
    "\n",
    "* Exercised Stock Options\n",
    "    > Reflects amounts from exercised stock options which equal the market value in excess of the exercise price on the date the options were exercised either through\n",
    "cashless (same-day sale), stock swap or cash exercises. The reflected gain may differ from that realized by the insider due to fluctuations in the market price and\n",
    "the timing of any subsequent sale of the securities.\n",
    "* Restricted Stock Options\n",
    "    > Reflects the gross fair market value of shares and accrued dividends (and/or phantom units and dividend equivalents) on the date of release due to lapse of vesting\n",
    "periods, regardless of whether deferred.\n",
    "* Restricted Stock Deferred\n",
    "    > Reflects value of restricted stock voluntarily deferred prior to release under a deferred compensation arrangement.\n",
    "\n",
    "\n",
    "* Want to find outliers in the form of POI but not other outliers\n",
    "* We know from the mini-projects that the index entry name 'TOTAL' is the wrong kind of outlier that we want\n",
    "* Manual inspection of index names also revealed the existence of 'THE TRAVEL AGENCY IN THE PARK\"\n",
    "    * Seems to be the travel agency of choice for Enron employees.  Essentially mandatory to use for Enron employees.\n",
    "    * Not a 'person' and not an Enron employee.  Also many NaN fields including Email Address.  Dropping this col.\n",
    "* Ropping "
   ],
   "metadata": {
    "collapsed": false,
    "pycharm": {
     "name": "#%% md\n"
    }
   }
  },
  {
   "cell_type": "code",
   "execution_count": 83,
   "outputs": [],
   "source": [
    "# dropping computed 'TOTAL' observation\n",
    "df.drop(index='TOTAL', inplace=True)"
   ],
   "metadata": {
    "collapsed": false,
    "pycharm": {
     "name": "#%%\n",
     "is_executing": false
    }
   }
  },
  {
   "cell_type": "code",
   "execution_count": 55,
   "outputs": [
    {
     "data": {
      "text/plain": "<seaborn.axisgrid.FacetGrid at 0x1a7a5b5cef0>"
     },
     "metadata": {},
     "output_type": "execute_result",
     "execution_count": 55
    },
    {
     "data": {
      "text/plain": "<Figure size 422.125x360 with 1 Axes>",
      "image/png": "[encoded data removed]"
     },
     "metadata": {
      "needs_background": "light"
     },
     "output_type": "display_data"
    }
   ],
   "source": [
    "# salary by bonus plot after 'TOTAL' removal\n",
    "sns.lmplot(x='salary', y='bonus', data=df,\n",
    "           fit_reg=False, # No regression line\n",
    "           hue='poi');"
   ],
   "metadata": {
    "collapsed": false,
    "pycharm": {
     "name": "#%%\n",
     "is_executing": false
    }
   }
  },
  {
   "cell_type": "code",
   "execution_count": 74,
   "outputs": [
    {
     "data": {
      "text/plain": "(145, 19)"
     },
     "metadata": {},
     "output_type": "execute_result",
     "execution_count": 74
    }
   ],
   "source": [
    "#Remove aggregate columns\n",
    "total_cols = [x for x in df.columns.to_list() if 'total' in x]\n",
    "df.drop(columns=total_cols, inplace=True)\n",
    "df.shape\n",
    "\n",
    "\n"
   ],
   "metadata": {
    "collapsed": false,
    "pycharm": {
     "name": "#%%\n",
     "is_executing": false
    }
   }
  },
  {
   "cell_type": "code",
   "execution_count": 110,
   "outputs": [
    {
     "name": "stdout",
     "text": [
      "\nPrediction accuracy for the normal test dataset with PCA\n81.08%\n\n\nPrediction accuracy for the standardized test dataset with PCA\n81.08%\n\n"
     ],
     "output_type": "stream"
    }
   ],
   "source": [
    "# New dataframe, dropping any records with nan values\n",
    "# X = df[['salary','bonus', 'poi']].dropna(how='any')\n",
    "# y = X.pop('poi')\n",
    "# y = df['poi']\n",
    "X = df.copy()\n",
    "X.drop(['email_address'], axis=1, inplace=True)\n",
    "y = X.pop('poi')\n",
    "# X = np.round(imp.transform(X))\n",
    "# X = imp.transform(X)\n",
    "X = IterativeImputer(max_iter=10000).fit_transform(X)\n",
    "X_train, X_test, y_train, y_test = train_test_split(X,y)\n",
    "\n",
    "# Fit to data and predict using pipelined GNB and PCA.\n",
    "unscaled_clf = make_pipeline(PCA(n_components=3), GaussianNB())\n",
    "unscaled_clf.fit(X_train, y_train)\n",
    "pred_test = unscaled_clf.predict(X_test)\n",
    "\n",
    "# Fit to data and predict using pipelined scaling, GNB and PCA.\n",
    "std_clf = make_pipeline(StandardScaler(), PCA(n_components=3), GaussianNB())\n",
    "std_clf.fit(X_train, y_train)\n",
    "pred_test_std = std_clf.predict(X_test)\n",
    "\n",
    "# Show prediction accuracies in scaled and unscaled data.\n",
    "print('\\nPrediction accuracy for the normal test dataset with PCA')\n",
    "print('{:.2%}\\n'.format(metrics.accuracy_score(y_test, pred_test)))\n",
    "\n",
    "print('\\nPrediction accuracy for the standardized test dataset with PCA')\n",
    "print('{:.2%}\\n'.format(metrics.accuracy_score(y_test, pred_test_std)))\n",
    "\n",
    "\n",
    "# clf = GaussianNB()\n",
    "# \n",
    "# t0 = time()\n",
    "# # Train the classifier\n",
    "# clf.fit(features_train, labels_train)\n",
    "# print(\"Training time:\", round(time()-t0, 3), \"s\")\n",
    "# \n",
    "# t1 = time()\n",
    "# # Make predictions with our classifier\n",
    "# pred = clf.predict(features_test)\n",
    "# print(\"Prediction time:\", round(time()-t1, 3), \"s\")\n",
    "# # How accurate are our predictions\n",
    "# accuracy = accuracy_score(pred, labels_test)\n",
    "# print(f\"Accuracy: {accuracy*100:.2f}%\")\n"
   ],
   "metadata": {
    "collapsed": false,
    "pycharm": {
     "name": "#%% try naive bayes\n",
     "is_executing": false
    }
   }
  },
  {
   "cell_type": "code",
   "execution_count": null,
   "outputs": [],
   "source": [
    "\n",
    "\n"
   ],
   "metadata": {
    "collapsed": false,
    "pycharm": {
     "name": "#%% Try PCA\n"
    }
   }
  },
  {
   "cell_type": "code",
   "execution_count": 72,
   "outputs": [],
   "source": [
    "# sns.boxplot(data=df)\n"
   ],
   "metadata": {
    "collapsed": false,
    "pycharm": {
     "name": "#%%\n",
     "is_executing": false
    }
   }
  },
  {
   "cell_type": "code",
   "execution_count": 73,
   "outputs": [],
   "source": [
    "# %%time\n",
    "# g = sns.PairGrid(df, hue=\"poi\")\n",
    "# g.map_diag(plt.hist)\n",
    "# g.map_offdiag(plt.scatter)\n",
    "# g.add_legend(); # semi-colon to hide unsiqhtly __repl__ call\n"
   ],
   "metadata": {
    "collapsed": false,
    "pycharm": {
     "name": "#%%\n",
     "is_executing": false
    }
   }
  }
 ],
 "metadata": {
  "language_info": {
   "codemirror_mode": {
    "name": "ipython",
    "version": 2
   },
   "file_extension": ".py",
   "mimetype": "text/x-python",
   "name": "python",
   "nbconvert_exporter": "python",
   "pygments_lexer": "ipython2",
   "version": "2.7.6"
  },
  "kernelspec": {
   "name": "python3",
   "language": "python",
   "display_name": "Python 3"
  },
  "pycharm": {
   "stem_cell": {
    "cell_type": "raw",
    "source": [],
    "metadata": {
     "collapsed": false
    }
   }
  }
 },
 "nbformat": 4,
 "nbformat_minor": 0
}